{
 "cells": [
  {
   "cell_type": "code",
   "execution_count": 1,
   "metadata": {},
   "outputs": [],
   "source": [
    "%load_ext autoreload\n",
    "%autoreload 2"
   ]
  },
  {
   "cell_type": "code",
   "execution_count": 2,
   "metadata": {},
   "outputs": [],
   "source": [
    "import sys, os\n",
    "sys.path.append(\"../..\")\n",
    "sys.path.append(\"..\")\n",
    "sys.path.append(os.getcwd())\n",
    "import re\n",
    "import datetime\n",
    "\n",
    "import math\n",
    "import scipy\n",
    "\n",
    "from matplotlib import pyplot as plt\n",
    "import matplotlib.ticker as ticker\n",
    "import matplotlib.dates as mdates\n",
    "import seaborn as sns\n",
    "sns.set()\n",
    "sns.set(palette=\"bright\")\n",
    "sns.set_style(\"whitegrid\")\n",
    "\n",
    "from sklearn import linear_model\n",
    "from cycler import cycler\n",
    "from celluloid import Camera\n",
    "from IPython.display import HTML\n",
    "\n",
    "import importlib\n",
    "import warnings\n",
    "import numpy as np\n",
    "import pandas as pd\n",
    "import copy\n",
    "import random\n",
    "from tslib.src import tsUtils\n",
    "from tslib.tests import testdata\n",
    "from sklearn.cluster import KMeans, AgglomerativeClustering, AffinityPropagation, DBSCAN #For clustering\n",
    "from sklearn.mixture import GaussianMixture #For GMM clustering\n",
    "from filter_data import *\n",
    "from load_and_clean import *\n",
    "import hdbscan\n",
    "import plotly.figure_factory as ff\n",
    "%matplotlib inline\n",
    "import json"
   ]
  },
  {
   "cell_type": "code",
   "execution_count": 3,
   "metadata": {},
   "outputs": [],
   "source": [
    "temp_data, fips = load_clean('temperature')\n",
    "post_memo = temp_data.loc['2020-05-25':]"
   ]
  },
  {
   "cell_type": "code",
   "execution_count": null,
   "metadata": {},
   "outputs": [],
   "source": [
    "plt.figure(figsize = (15, 12))\n",
    "plt.scatter(post_memo.mean(), post_memo.std())\n",
    "plt.show()"
   ]
  },
  {
   "cell_type": "markdown",
   "metadata": {},
   "source": [
    "## HDBSCAN"
   ]
  },
  {
   "cell_type": "code",
   "execution_count": null,
   "metadata": {},
   "outputs": [],
   "source": [
    "feature_dict, features = cluster_temperature(post_memo)"
   ]
  },
  {
   "cell_type": "code",
   "execution_count": null,
   "metadata": {
    "scrolled": true
   },
   "outputs": [],
   "source": [
    "df = pd.DataFrame.drop_duplicates(pd.merge(features['DB'].reset_index(), fips, \n",
    "                              how = 'right', on = ['county_state']))\n",
    "group = df['fips']\n",
    "values = df['DB']\n",
    "fig = ff.create_choropleth(fips=group, values=values)\n",
    "fig.layout.template = None\n",
    "fig.show()"
   ]
  },
  {
   "cell_type": "code",
   "execution_count": null,
   "metadata": {},
   "outputs": [],
   "source": [
    "post_memo[feature_dict[1]].plot(figsize = (15, 10))"
   ]
  },
  {
   "cell_type": "markdown",
   "metadata": {},
   "source": [
    "## K-means"
   ]
  },
  {
   "cell_type": "code",
   "execution_count": null,
   "metadata": {},
   "outputs": [],
   "source": [
    "#k-means\n",
    "feature_dict, features = cluster_temperature(post_memo, cluster_method = 'kmeans')"
   ]
  },
  {
   "cell_type": "code",
   "execution_count": null,
   "metadata": {},
   "outputs": [],
   "source": [
    "df = pd.DataFrame.drop_duplicates(pd.merge(features['kmeans'].reset_index(), fips, \n",
    "                              how = 'right', on = ['county_state']))\n",
    "group = df['fips']\n",
    "values = df['kmeans']\n",
    "fig = ff.create_choropleth(fips=group, values=values)\n",
    "fig.layout.template = None\n",
    "fig.show()"
   ]
  },
  {
   "cell_type": "code",
   "execution_count": null,
   "metadata": {},
   "outputs": [],
   "source": [
    "for key in feature_dict:\n",
    "    feature_dict[key] = list(feature_dict[key])\n",
    "np.save('temp_cluster.npy', feature_dict) "
   ]
  },
  {
   "cell_type": "code",
   "execution_count": null,
   "metadata": {},
   "outputs": [],
   "source": [
    "json = json.dumps(feature_dict)\n",
    "f = open(\"temp_cluster.json\",\"w\")\n",
    "f.write(json)\n",
    "f.close()"
   ]
  },
  {
   "cell_type": "markdown",
   "metadata": {},
   "source": [
    "## AgglomerativeClustering"
   ]
  },
  {
   "cell_type": "code",
   "execution_count": null,
   "metadata": {},
   "outputs": [],
   "source": [
    "feature_dict, features = cluster_temperature(post_memo, cluster_method = 'AgglomerativeClustering')"
   ]
  },
  {
   "cell_type": "code",
   "execution_count": null,
   "metadata": {},
   "outputs": [],
   "source": [
    "df = pd.DataFrame.drop_duplicates(pd.merge(features['AC'].reset_index(), fips, \n",
    "                              how = 'right', on = ['county_state']))\n",
    "group = df['fips']\n",
    "values = df['AC']\n",
    "fig = ff.create_choropleth(fips=group, values=values)\n",
    "fig.layout.template = None\n",
    "fig.show()"
   ]
  },
  {
   "cell_type": "code",
   "execution_count": null,
   "metadata": {},
   "outputs": [],
   "source": [
    "for key in feature_dict:\n",
    "    feature_dict[key] = list(feature_dict[key])\n",
    "np.save('temp_cluster.npy', feature_dict)"
   ]
  },
  {
   "cell_type": "code",
   "execution_count": null,
   "metadata": {},
   "outputs": [],
   "source": []
  }
 ],
 "metadata": {
  "kernelspec": {
   "display_name": "Python 3",
   "language": "python",
   "name": "python3"
  },
  "language_info": {
   "codemirror_mode": {
    "name": "ipython",
    "version": 3
   },
   "file_extension": ".py",
   "mimetype": "text/x-python",
   "name": "python",
   "nbconvert_exporter": "python",
   "pygments_lexer": "ipython3",
   "version": "3.7.3"
  }
 },
 "nbformat": 4,
 "nbformat_minor": 2
}
